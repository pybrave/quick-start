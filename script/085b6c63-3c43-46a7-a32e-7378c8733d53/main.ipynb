{
 "cells": [
  {
   "cell_type": "markdown",
   "id": "643c3f35",
   "metadata": {},
   "source": [
    "# 自动生成的 Notebook\n",
    "这里写一些说明"
   ]
  },
  {
   "cell_type": "code",
   "execution_count": null,
   "id": "da9306d1",
   "metadata": {},
   "outputs": [],
   "source": [
    "import sys\n",
    "print(sys.argv)"
   ]
  },
  {
   "cell_type": "code",
   "execution_count": null,
   "id": "e5f283bc",
   "metadata": {},
   "outputs": [],
   "source": [
    "print('Hello from generated notebook!')"
   ]
  }
 ],
 "metadata": {},
 "nbformat": 4,
 "nbformat_minor": 5
}
