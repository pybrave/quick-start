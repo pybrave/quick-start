{
 "cells": [
  {
   "cell_type": "markdown",
   "id": "7b33b4cd",
   "metadata": {},
   "source": [
    "# 自动生成的 Notebook\n",
    "这里写一些说明"
   ]
  },
  {
   "cell_type": "code",
   "execution_count": null,
   "id": "81bf8077",
   "metadata": {},
   "outputs": [],
   "source": [
    "import sys\n",
    "print(sys.argv)"
   ]
  },
  {
   "cell_type": "code",
   "execution_count": null,
   "id": "5ea4e6b1",
   "metadata": {},
   "outputs": [],
   "source": [
    "print('Hello from generated notebook!')"
   ]
  }
 ],
 "metadata": {},
 "nbformat": 4,
 "nbformat_minor": 5
}
