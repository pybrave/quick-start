{
 "cells": [
  {
   "cell_type": "code",
   "execution_count": 61,
   "metadata": {},
   "outputs": [
    {
     "name": "stdout",
     "output_type": "stream",
     "text": [
      "/ssd1/wy/workspace2/nextflow_workspace/1c48821a-f430-45af-a479-dc400476147e/e6255201-4c41-4761-82f0-634c43d45280/323dc27a-cb4d-4141-8658-c53b987c38c9/params.json\n",
      "/ssd1/wy/workspace2/nextflow_workspace/1c48821a-f430-45af-a479-dc400476147e/e6255201-4c41-4761-82f0-634c43d45280/323dc27a-cb4d-4141-8658-c53b987c38c9/output\n"
     ]
    }
   ],
   "source": [
    "import sys\n",
    "import os\n",
    "# script_dir = os.path.dirname(os.path.abspath(__file__))\n",
    "# common_dir = os.path.abspath(os.path.join(script_dir, \"../../script/common\"))\n",
    "# sys.path.insert(0, common_dir)\n",
    "# print(os.getcwd())\n",
    "from humann_barplot import main\n",
    "\n",
    "\n",
    "params = \"/ssd1/wy/workspace2/nextflow_workspace/1c48821a-f430-45af-a479-dc400476147e/e6255201-4c41-4761-82f0-634c43d45280/323dc27a-cb4d-4141-8658-c53b987c38c9/params.json\"\n",
    "output = \"/ssd1/wy/workspace2/nextflow_workspace/1c48821a-f430-45af-a479-dc400476147e/e6255201-4c41-4761-82f0-634c43d45280/323dc27a-cb4d-4141-8658-c53b987c38c9/output\"\n",
    "print(params)\n",
    "print(output)\n",
    "def delete_files_in_dir(folder):\n",
    "    for entry in os.scandir(folder):\n",
    "        if entry.is_file():\n",
    "            os.remove(entry.path)\n",
    "delete_files_in_dir(output)\n",
    "\n",
    "import pandas as pd\n",
    "import json\n",
    "from  functools import reduce\n",
    "\n",
    "with open(params,\"r\") as f:\n",
    "    params_json = json.load(f)\n",
    "humann_profile = params_json['humann_profile']\n",
    "term = params_json['term']\n",
    "query_term = params_json['query_term']\n",
    "\n",
    "humann_profile_path = [item[term] for item in humann_profile]\n",
    "\n",
    "def get_df(item,term,sample_name):\n",
    "    file_name = os.path.basename(item)\n",
    "    term = term.replace(\"_\",\".\")\n",
    "    # file_name = file_name.replace(f\"_{term}.tsv\",\"\")\n",
    "    \n",
    "    # file_name = file_name.replace(f\".Pathway.txt\",\"\")\n",
    "    # file_name = file_name.replace(f\".Module.txt\",\"\")\n",
    "    # file_name = file_name.replace(f\".{term}.txt\",\"\")\n",
    "    df = pd.read_csv(item,sep=\"\\t\")\n",
    "    df.columns = [\"term\",sample_name]\n",
    "    # df = df.query(\"term.str.contains(@query_term)\")\n",
    "    return df \n",
    "# humann_profile_df = [get_df(item,term) for item in humann_profile_path]\n",
    "humann_profile_df = [get_df(item[term],term,item[\"sample_name\"])for item in humann_profile]\n",
    "humann_profile_merge_df = reduce(lambda x,y: pd.merge(x,y,on=\"term\",how=\"outer\"),humann_profile_df ).fillna(0)\n",
    "\n",
    "metadata = [(item['sample_name'],item['group'])for item in humann_profile]\n",
    "metadata = pd.DataFrame(metadata, columns=[\"sample_name\",\"group\"]).set_index(\"sample_name\").T\n",
    "humann_profile_merge_df = humann_profile_merge_df[[\"term\",*metadata.columns]]\n",
    "metadata = metadata.reset_index().rename({\"index\":\"term\"},axis=1)\n",
    "result_df = pd.concat([metadata,humann_profile_merge_df])\n",
    "\n",
    "\n",
    "output_file= f\"{output}/{term}.tsv\"\n",
    "result_df.to_csv(output_file, index=False,sep=\"\\t\")\n",
    "\n",
    "\n",
    "# sys.argv= ['a', '--input', 'hmp_pathabund.pcl', '--focal-metadata', 'STSite', '--last-metadata', 'STSite', '--output', 'output/plot1.png', '--focal-feature', 'METSYN-PWY']\n",
    "# sys.argv= ['a', '--input', output_file, '--output', f\"{output}/plot.png\", '--focal-feature',query_term ,\"--sort\",\"sum\"]\n",
    "query_term_list = query_term.split(\",\")\n",
    "for query_term_item in query_term_list:\n",
    "    sys.argv= ['a', '--input', output_file, '--output', f\"{output}/{query_term_item}.png\", '--focal-feature',query_term_item ,\"--sort\",\"braycurtis\",'--focal-metadata', 'group',\"--scaling\",\"logstack\", \"--as-genera\",\"--remove-zeros\"]\n",
    "    main()"
   ]
  },
  {
   "cell_type": "code",
   "execution_count": 57,
   "metadata": {
    "scrolled": true
   },
   "outputs": [],
   "source": []
  },
  {
   "cell_type": "code",
   "execution_count": 60,
   "metadata": {
    "scrolled": true
   },
   "outputs": [
    {
     "data": {
      "text/plain": [
       "['METH-ACETATE-PWY']"
      ]
     },
     "execution_count": 60,
     "metadata": {},
     "output_type": "execute_result"
    }
   ],
   "source": []
  },
  {
   "cell_type": "code",
   "execution_count": 50,
   "metadata": {},
   "outputs": [],
   "source": [
    "result_df.to_csv(output_file, index=False,sep=\"\\t\")"
   ]
  },
  {
   "cell_type": "code",
   "execution_count": 56,
   "metadata": {},
   "outputs": [],
   "source": [
    "sys.argv= ['a', '--input', output_file, '--output', f\"{output}/plot.png\", '--focal-feature',\"COA-PWY\" ,\"--sort\",\"braycurtis\",'--focal-metadata', 'group',\"--scaling\",\"logstack\", \"--as-genera\",\"--remove-zeros\"]\n",
    "main()"
   ]
  }
 ],
 "metadata": {
  "kernelspec": {
   "display_name": "Python 3 (ipykernel)",
   "language": "python",
   "name": "python3"
  },
  "language_info": {
   "codemirror_mode": {
    "name": "ipython",
    "version": 3
   },
   "file_extension": ".py",
   "mimetype": "text/x-python",
   "name": "python",
   "nbconvert_exporter": "python",
   "pygments_lexer": "ipython3",
   "version": "3.11.6"
  }
 },
 "nbformat": 4,
 "nbformat_minor": 4
}
