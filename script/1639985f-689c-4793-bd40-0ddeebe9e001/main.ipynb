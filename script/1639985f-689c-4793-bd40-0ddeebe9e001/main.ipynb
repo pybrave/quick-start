{
 "cells": [
  {
   "cell_type": "code",
   "execution_count": null,
   "id": "28e515ba-4308-49b5-aed2-12af5194b345",
   "metadata": {},
   "outputs": [],
   "source": []
  }
 ],
 "metadata": {
  "kernelspec": {
   "display_name": "R",
   "language": "R",
   "name": "ir"
  },
  "language_info": {
   "codemirror_mode": "r",
   "file_extension": ".r",
   "mimetype": "text/x-r-source",
   "name": "R",
   "pygments_lexer": "r",
   "version": "4.3.1"
  }
 },
 "nbformat": 4,
 "nbformat_minor": 5
}
