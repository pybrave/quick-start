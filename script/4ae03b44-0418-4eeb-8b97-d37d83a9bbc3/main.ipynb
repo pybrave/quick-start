{
 "cells": [
  {
   "cell_type": "code",
   "execution_count": 22,
   "id": "544928d2-66fe-4199-9e04-a1df60ecf108",
   "metadata": {},
   "outputs": [],
   "source": [
    "import os\n",
    "import json\n",
    "import sys\n",
    "import pandas as pd \n",
    "from functools import reduce\n",
    "\n",
    "\n",
    "os.chdir(os.getenv(\"OUTPUT_DIR\"))\n",
    "params_path = sys.argv[1]\n",
    "output_path = sys.argv[2]\n",
    "params_path=\"params.json\"\n",
    "output_path=\"output\"\n",
    "common_dir =os.getenv(\"COMMON_SCRIPT_DIR\")\n",
    "sys.path.insert(0, common_dir)\n",
    "from metaphlan import get_abundance,get_metadata"
   ]
  },
  {
   "cell_type": "code",
   "execution_count": 23,
   "id": "0295b179-a561-44f9-ad16-722c57e0b266",
   "metadata": {},
   "outputs": [],
   "source": [
    "\n",
    "\n",
    "\n",
    "with open(params_path,\"r\") as f:\n",
    "    params = json.load(f)\n",
    "\n",
    "def get_last_num(clade_name,num):\n",
    "    clade_name_list = clade_name.split('|')\n",
    "    return clade_name_list[len(clade_name_list)-num]\n",
    "\n",
    "def get_last(clade_name):\n",
    "    clade_name_list = clade_name.split('|')\n",
    "    return clade_name_list[len(clade_name_list)-1]\n",
    "def set_rank(taxonomy):\n",
    "    if taxonomy.startswith(\"t__\"):\n",
    "        return \"SGB\"\n",
    "    if taxonomy.startswith(\"s__\"):\n",
    "        return \"SPECIES\"\n",
    "    elif  taxonomy.startswith(\"g__\"):\n",
    "        return \"GENUS\"\n",
    "    elif  taxonomy.startswith(\"f__\"):\n",
    "        return \"FAMILY\"\n",
    "    elif  taxonomy.startswith(\"o__\"):\n",
    "        return \"ORDER\"\n",
    "    elif  taxonomy.startswith(\"c__\"):\n",
    "        return \"CLASS\"\n",
    "    elif  taxonomy.startswith(\"p__\"):\n",
    "        return \"PHYLUM\"\n",
    "    elif  taxonomy.startswith(\"k__\"):\n",
    "        return \"KINGDOM\"\n",
    "def rename_taxonomy(taxonomy):\n",
    "    if taxonomy.startswith(\"t__\"):\n",
    "        return taxonomy.replace(\"t__\",\"\").replace(\"_\",\" \")\n",
    "    if taxonomy.startswith(\"s__\"):\n",
    "        return taxonomy.replace(\"s__\",\"\").replace(\"_\",\" \")\n",
    "    elif  taxonomy.startswith(\"g__\"):\n",
    "        return taxonomy.replace(\"g__\",\"\").replace(\"_\",\" \")\n",
    "    elif  taxonomy.startswith(\"f__\"):\n",
    "        return taxonomy.replace(\"f__\",\"\").replace(\"_\",\" \")\n",
    "    elif  taxonomy.startswith(\"o__\"):\n",
    "        return taxonomy.replace(\"o__\",\"\").replace(\"_\",\" \")\n",
    "    elif  taxonomy.startswith(\"c__\"):\n",
    "        return taxonomy.replace(\"c__\",\"\").replace(\"_\",\" \")\n",
    "    elif  taxonomy.startswith(\"p__\"):\n",
    "        return taxonomy.replace(\"p__\",\"\").replace(\"_\",\" \")\n",
    "    elif  taxonomy.startswith(\"k__\"):\n",
    "        return taxonomy.replace(\"k__\",\"\").replace(\"_\",\" \")\n",
    "def get_one_df(file,sample_key):\n",
    "    df = pd.read_csv(file,sep=\"\\t\",comment=\"#\",header=None)\n",
    "    df.columns = [\"clade_name\",\"ncbi_tax_id\",\"relative_abundance\",\"additional_species\"]\n",
    "    df = df.rename({\"relative_abundance\":sample_key},axis=1)\n",
    "    df = df.drop(\"additional_species\",axis=1)\n",
    "    df = df.set_index([\"clade_name\",\"ncbi_tax_id\"])\n",
    "    return df    \n",
    "\n",
    "\n",
    "metaphlan_sam_abundance=  params['metaphlan_sam_abundance']\n",
    "df_list = [get_one_df(item['profile'],item['sample_name']) for item in metaphlan_sam_abundance]\n",
    "df = reduce(lambda x,y:pd.merge(x,y,left_index=True,right_index=True, how=\"outer\"),df_list)\n",
    "\n",
    "\n",
    "\n",
    "df = df.reset_index()\n",
    "df['taxonomy'] = df.apply(lambda x : get_last(x['clade_name']) ,axis=1)\n",
    "df['tax_id'] = df.apply(lambda x : get_last(x['ncbi_tax_id']) ,axis=1)\n",
    "df['rank'] = df.apply(lambda x : set_rank(x['taxonomy']) ,axis=1)\n",
    "df['taxonomy'] = df.apply(lambda x : rename_taxonomy(x['taxonomy']) ,axis=1)\n",
    "df = df.set_index([\"clade_name\",\"ncbi_tax_id\",\"taxonomy\",\"tax_id\",\"rank\"])\n",
    "df = df.fillna(0)\n",
    "df = df.reset_index()\n"
   ]
  },
  {
   "cell_type": "code",
   "execution_count": 31,
   "id": "a8af80d2-60c3-491b-90f0-abfa440b7f7c",
   "metadata": {},
   "outputs": [],
   "source": [
    "# metadata = get_metadata(params)\n"
   ]
  },
  {
   "cell_type": "code",
   "execution_count": 30,
   "id": "6927ad70-3abd-4d89-acbe-136fb4e6b5a1",
   "metadata": {},
   "outputs": [],
   "source": [
    "# sorted(metadata.index)"
   ]
  },
  {
   "cell_type": "code",
   "execution_count": 32,
   "id": "c700657f-abd7-4d0f-890a-623bfa9d3c41",
   "metadata": {},
   "outputs": [],
   "source": [
    "# df_sorted = df[]\n",
    "# df_sorted"
   ]
  },
  {
   "cell_type": "code",
   "execution_count": 17,
   "id": "f38f8b5c-352f-489b-a776-d6ed17f1d774",
   "metadata": {},
   "outputs": [
    {
     "name": "stdout",
     "output_type": "stream",
     "text": [
      "写入文件 output/matrix.tsv\n"
     ]
    }
   ],
   "source": [
    "\n",
    "output_file = f\"{output_path}/matrix.tsv\"\n",
    "df.to_csv(output_file, sep=\"\\t\",index=False)\n",
    "print(f\"写入文件 {output_file}\")\n",
    "# rank_list = list(set(df[\"rank\"]))\n",
    "# for item in rank_list:\n",
    "#     print(f\"save: {output_path}/{item}.tsv\")\n",
    "#     df.query(\"rank==@item\").to_csv(f\"{output_path}/{item}.tsv\",sep=\"\\t\")"
   ]
  },
  {
   "cell_type": "code",
   "execution_count": 17,
   "id": "4c2a496a-7175-4a19-aad3-a33ef803ec8c",
   "metadata": {},
   "outputs": [],
   "source": [
    "# rank_list = list(set(df[\"rank\"]))\n",
    "# item = rank_list[0]"
   ]
  },
  {
   "cell_type": "code",
   "execution_count": 4,
   "id": "c0b52a94-de7e-4fbf-8aff-3cd8bb864fd4",
   "metadata": {},
   "outputs": [],
   "source": [
    "# for item in rank_list:\n",
    "#     print(f\"save: {output_path}/{item}.tsv\")\n",
    "#     df.query(\"rank==@item\").to_csv(f\"{output_path}/{item}.tsv\",sep=\"\\t\")"
   ]
  },
  {
   "cell_type": "code",
   "execution_count": null,
   "id": "b48fd859-fc12-46f8-a1f2-6f4883934c16",
   "metadata": {},
   "outputs": [],
   "source": []
  },
  {
   "cell_type": "code",
   "execution_count": 5,
   "id": "7d10f968-344f-4d18-a551-6cea1487e640",
   "metadata": {},
   "outputs": [],
   "source": [
    "# params = sys.argv[1]\n",
    "# output_path = sys.argv[2]"
   ]
  },
  {
   "cell_type": "code",
   "execution_count": 6,
   "id": "87b975fd-ab19-49ad-b434-f040aea2a86d",
   "metadata": {},
   "outputs": [],
   "source": [
    "# params = \"/ssd1/wy/workspace2/nextflow_workspace/9a6af4fb-0af6-4752-af79-9adec161e7c2/4ae03b44-0418-4eeb-8b97-d37d83a9bbc3/86d2ce8c-9d23-42f2-a647-44838fc4a3c2/params.json\"\n",
    "# output_path =\"/ssd1/wy/workspace2/nextflow_workspace/9a6af4fb-0af6-4752-af79-9adec161e7c2/4ae03b44-0418-4eeb-8b97-d37d83a9bbc3/86d2ce8c-9d23-42f2-a647-44838fc4a3c2/output\""
   ]
  },
  {
   "cell_type": "code",
   "execution_count": 7,
   "id": "dcda22c0-d419-498c-9070-f5bf18e320fc",
   "metadata": {},
   "outputs": [],
   "source": [
    "# with open(params,\"r\") as f:\n",
    "#     params = json.load(f)"
   ]
  },
  {
   "cell_type": "code",
   "execution_count": 9,
   "id": "b794aef4-4584-4017-b5ab-c1021c931db8",
   "metadata": {},
   "outputs": [],
   "source": [
    "# def get_last_num(clade_name,num):\n",
    "#     clade_name_list = clade_name.split('|')\n",
    "#     return clade_name_list[len(clade_name_list)-num]\n",
    "\n",
    "# def get_last(clade_name):\n",
    "#     clade_name_list = clade_name.split('|')\n",
    "#     return clade_name_list[len(clade_name_list)-1]\n",
    "# def set_rank(taxonomy):\n",
    "#     if taxonomy.startswith(\"t__\"):\n",
    "#         return \"SGB\"\n",
    "#     if taxonomy.startswith(\"s__\"):\n",
    "#         return \"SPECIES\"\n",
    "#     elif  taxonomy.startswith(\"g__\"):\n",
    "#         return \"GENUS\"\n",
    "#     elif  taxonomy.startswith(\"f__\"):\n",
    "#         return \"FAMILY\"\n",
    "#     elif  taxonomy.startswith(\"o__\"):\n",
    "#         return \"ORDER\"\n",
    "#     elif  taxonomy.startswith(\"c__\"):\n",
    "#         return \"CLASS\"\n",
    "#     elif  taxonomy.startswith(\"p__\"):\n",
    "#         return \"PHYLUM\"\n",
    "#     elif  taxonomy.startswith(\"k__\"):\n",
    "#         return \"KINGDOM\"\n",
    "# def rename_taxonomy(taxonomy):\n",
    "#     if taxonomy.startswith(\"t__\"):\n",
    "#         return taxonomy.replace(\"t__\",\"\").replace(\"_\",\" \")\n",
    "#     if taxonomy.startswith(\"s__\"):\n",
    "#         return taxonomy.replace(\"s__\",\"\").replace(\"_\",\" \")\n",
    "#     elif  taxonomy.startswith(\"g__\"):\n",
    "#         return taxonomy.replace(\"g__\",\"\").replace(\"_\",\" \")\n",
    "#     elif  taxonomy.startswith(\"f__\"):\n",
    "#         return taxonomy.replace(\"f__\",\"\").replace(\"_\",\" \")\n",
    "#     elif  taxonomy.startswith(\"o__\"):\n",
    "#         return taxonomy.replace(\"o__\",\"\").replace(\"_\",\" \")\n",
    "#     elif  taxonomy.startswith(\"c__\"):\n",
    "#         return taxonomy.replace(\"c__\",\"\").replace(\"_\",\" \")\n",
    "#     elif  taxonomy.startswith(\"p__\"):\n",
    "#         return taxonomy.replace(\"p__\",\"\").replace(\"_\",\" \")\n",
    "#     elif  taxonomy.startswith(\"k__\"):\n",
    "#         return taxonomy.replace(\"k__\",\"\").replace(\"_\",\" \")\n",
    "# def get_one_df(file,sample_key):\n",
    "#     df = pd.read_csv(file,sep=\"\\t\",comment=\"#\",header=None)\n",
    "#     df.columns = [\"clade_name\",\"ncbi_tax_id\",\"relative_abundance\",\"additional_species\"]\n",
    "#     df = df.rename({\"relative_abundance\":sample_key},axis=1)\n",
    "#     df = df.drop(\"additional_species\",axis=1)\n",
    "#     df = df.set_index([\"clade_name\",\"ncbi_tax_id\"])\n",
    "#     return df    "
   ]
  },
  {
   "cell_type": "code",
   "execution_count": 10,
   "id": "427407ab-3dee-4cf5-bae1-f01c4a04e956",
   "metadata": {},
   "outputs": [],
   "source": [
    "# metaphlan_sam_abundance=  params['metaphlan_sam_abundance']\n",
    "# df_list = [get_one_df(item['profile'],item['sample_name']) for item in metaphlan_sam_abundance]\n",
    "# df = reduce(lambda x,y:pd.merge(x,y,left_index=True,right_index=True, how=\"outer\"),df_list)\n",
    "# df = df.reset_index()\n",
    "# df['taxonomy'] = df.apply(lambda x : get_last(x['clade_name']) ,axis=1)\n",
    "# df['tax_id'] = df.apply(lambda x : get_last(x['ncbi_tax_id']) ,axis=1)\n",
    "# df['rank'] = df.apply(lambda x : set_rank(x['taxonomy']) ,axis=1)\n",
    "# df['taxonomy'] = df.apply(lambda x : rename_taxonomy(x['taxonomy']) ,axis=1)\n",
    "# df = df.set_index([\"clade_name\",\"ncbi_tax_id\",\"taxonomy\",\"tax_id\",\"rank\"])\n",
    "# df = df.fillna(0)\n",
    "# df = df.reset_index()\n",
    "# df"
   ]
  },
  {
   "cell_type": "code",
   "execution_count": 11,
   "id": "3206faa5-fc3c-4e0d-b551-770c9d7c0b3e",
   "metadata": {},
   "outputs": [],
   "source": [
    "# df.to_csv(f\"{output_path}/matrix.tsv\",sep=\"\\t\",index=False)"
   ]
  }
 ],
 "metadata": {
  "kernelspec": {
   "display_name": "Python 3 (ipykernel)",
   "language": "python",
   "name": "python3"
  },
  "language_info": {
   "codemirror_mode": {
    "name": "ipython",
    "version": 3
   },
   "file_extension": ".py",
   "mimetype": "text/x-python",
   "name": "python",
   "nbconvert_exporter": "python",
   "pygments_lexer": "ipython3",
   "version": "3.11.6"
  }
 },
 "nbformat": 4,
 "nbformat_minor": 5
}
