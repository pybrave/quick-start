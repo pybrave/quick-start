{
 "cells": [
  {
   "cell_type": "markdown",
   "id": "109a1ff4",
   "metadata": {},
   "source": [
    "# 自动生成的 Notebook\n",
    "这里写一些说明"
   ]
  },
  {
   "cell_type": "code",
   "execution_count": null,
   "id": "34e1bb33",
   "metadata": {},
   "outputs": [],
   "source": [
    "import sys\n",
    "print(sys.argv)"
   ]
  },
  {
   "cell_type": "code",
   "execution_count": null,
   "id": "a2b596d7",
   "metadata": {},
   "outputs": [],
   "source": [
    "print('Hello from generated notebook!')"
   ]
  }
 ],
 "metadata": {},
 "nbformat": 4,
 "nbformat_minor": 5
}
