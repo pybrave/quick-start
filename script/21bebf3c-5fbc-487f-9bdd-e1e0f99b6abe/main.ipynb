{
 "cells": [
  {
   "cell_type": "markdown",
   "id": "e10c261e",
   "metadata": {},
   "source": [
    "# 自动生成的 Notebook\n",
    "这里写一些说明"
   ]
  },
  {
   "cell_type": "code",
   "execution_count": null,
   "id": "db2e9b21",
   "metadata": {},
   "outputs": [],
   "source": [
    "import sys\n",
    "print(sys.argv)"
   ]
  },
  {
   "cell_type": "code",
   "execution_count": null,
   "id": "e2c40078",
   "metadata": {},
   "outputs": [],
   "source": [
    "print('Hello from generated notebook!')"
   ]
  }
 ],
 "metadata": {},
 "nbformat": 4,
 "nbformat_minor": 5
}
